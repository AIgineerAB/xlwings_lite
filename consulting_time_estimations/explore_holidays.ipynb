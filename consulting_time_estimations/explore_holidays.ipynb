{
 "cells": [
  {
   "cell_type": "markdown",
   "id": "0f1d9339",
   "metadata": {},
   "source": [
    "# Holidays"
   ]
  },
  {
   "cell_type": "code",
   "execution_count": 4,
   "id": "9cdeca53",
   "metadata": {},
   "outputs": [
    {
     "data": {
      "text/plain": [
       "{datetime.date(2025, 1, 1): 'Nyårsdagen', datetime.date(2025, 1, 6): 'Trettondedag jul', datetime.date(2025, 4, 18): 'Långfredagen', datetime.date(2025, 4, 20): 'Påskdagen; Söndag', datetime.date(2025, 4, 21): 'Annandag påsk', datetime.date(2025, 5, 1): 'Första maj', datetime.date(2025, 5, 29): 'Kristi himmelsfärdsdag', datetime.date(2025, 6, 6): 'Sveriges nationaldag', datetime.date(2025, 6, 8): 'Pingstdagen; Söndag', datetime.date(2025, 6, 20): 'Midsommarafton', datetime.date(2025, 6, 21): 'Midsommardagen', datetime.date(2025, 11, 1): 'Alla helgons dag', datetime.date(2025, 12, 24): 'Julafton', datetime.date(2025, 12, 25): 'Juldagen', datetime.date(2025, 12, 26): 'Annandag jul', datetime.date(2025, 12, 31): 'Nyårsafton', datetime.date(2025, 1, 5): 'Söndag', datetime.date(2025, 1, 12): 'Söndag', datetime.date(2025, 1, 19): 'Söndag', datetime.date(2025, 1, 26): 'Söndag', datetime.date(2025, 2, 2): 'Söndag', datetime.date(2025, 2, 9): 'Söndag', datetime.date(2025, 2, 16): 'Söndag', datetime.date(2025, 2, 23): 'Söndag', datetime.date(2025, 3, 2): 'Söndag', datetime.date(2025, 3, 9): 'Söndag', datetime.date(2025, 3, 16): 'Söndag', datetime.date(2025, 3, 23): 'Söndag', datetime.date(2025, 3, 30): 'Söndag', datetime.date(2025, 4, 6): 'Söndag', datetime.date(2025, 4, 13): 'Söndag', datetime.date(2025, 4, 27): 'Söndag', datetime.date(2025, 5, 4): 'Söndag', datetime.date(2025, 5, 11): 'Söndag', datetime.date(2025, 5, 18): 'Söndag', datetime.date(2025, 5, 25): 'Söndag', datetime.date(2025, 6, 1): 'Söndag', datetime.date(2025, 6, 15): 'Söndag', datetime.date(2025, 6, 22): 'Söndag', datetime.date(2025, 6, 29): 'Söndag', datetime.date(2025, 7, 6): 'Söndag', datetime.date(2025, 7, 13): 'Söndag', datetime.date(2025, 7, 20): 'Söndag', datetime.date(2025, 7, 27): 'Söndag', datetime.date(2025, 8, 3): 'Söndag', datetime.date(2025, 8, 10): 'Söndag', datetime.date(2025, 8, 17): 'Söndag', datetime.date(2025, 8, 24): 'Söndag', datetime.date(2025, 8, 31): 'Söndag', datetime.date(2025, 9, 7): 'Söndag', datetime.date(2025, 9, 14): 'Söndag', datetime.date(2025, 9, 21): 'Söndag', datetime.date(2025, 9, 28): 'Söndag', datetime.date(2025, 10, 5): 'Söndag', datetime.date(2025, 10, 12): 'Söndag', datetime.date(2025, 10, 19): 'Söndag', datetime.date(2025, 10, 26): 'Söndag', datetime.date(2025, 11, 2): 'Söndag', datetime.date(2025, 11, 9): 'Söndag', datetime.date(2025, 11, 16): 'Söndag', datetime.date(2025, 11, 23): 'Söndag', datetime.date(2025, 11, 30): 'Söndag', datetime.date(2025, 12, 7): 'Söndag', datetime.date(2025, 12, 14): 'Söndag', datetime.date(2025, 12, 21): 'Söndag', datetime.date(2025, 12, 28): 'Söndag'}"
      ]
     },
     "execution_count": 4,
     "metadata": {},
     "output_type": "execute_result"
    }
   ],
   "source": [
    "import holidays\n",
    "\n",
    "holidays_swe = holidays.country_holidays(country=\"Sweden\", years=2025)\n",
    "holidays_swe "
   ]
  },
  {
   "cell_type": "code",
   "execution_count": 5,
   "id": "d0c1db1f",
   "metadata": {},
   "outputs": [
    {
     "data": {
      "text/plain": [
       "holidays.countries.sweden.Sweden"
      ]
     },
     "execution_count": 5,
     "metadata": {},
     "output_type": "execute_result"
    }
   ],
   "source": [
    "type(holidays_swe)"
   ]
  },
  {
   "cell_type": "code",
   "execution_count": 8,
   "id": "e1d1ac89",
   "metadata": {},
   "outputs": [
    {
     "data": {
      "text/plain": [
       "'Nyårsdagen'"
      ]
     },
     "execution_count": 8,
     "metadata": {},
     "output_type": "execute_result"
    }
   ],
   "source": [
    "import datetime\n",
    "holidays_swe.get(datetime.date(2025, 1, 1))"
   ]
  },
  {
   "cell_type": "code",
   "execution_count": 11,
   "id": "dc91f9a8",
   "metadata": {},
   "outputs": [
    {
     "data": {
      "text/plain": [
       "1"
      ]
     },
     "execution_count": 11,
     "metadata": {},
     "output_type": "execute_result"
    }
   ],
   "source": [
    "# week number\n",
    "int(datetime.date(2025, 1, 1).strftime(\"%V\"))"
   ]
  },
  {
   "cell_type": "code",
   "execution_count": null,
   "id": "f68e808e",
   "metadata": {},
   "outputs": [
    {
     "data": {
      "text/plain": [
       "2"
      ]
     },
     "execution_count": 15,
     "metadata": {},
     "output_type": "execute_result"
    }
   ],
   "source": [
    "# which day in the week is it \n",
    "datetime.date(2025, 1, 1).weekday() # corresponding to tuesday"
   ]
  },
  {
   "cell_type": "markdown",
   "id": "e53608e4",
   "metadata": {},
   "source": [
    "## map to excel cells"
   ]
  },
  {
   "cell_type": "code",
   "execution_count": 17,
   "id": "d27deb79",
   "metadata": {},
   "outputs": [
    {
     "data": {
      "text/plain": [
       "'CDEFG'"
      ]
     },
     "execution_count": 17,
     "metadata": {},
     "output_type": "execute_result"
    }
   ],
   "source": [
    "columns = \"CDEFG\"\n",
    "columns"
   ]
  },
  {
   "cell_type": "code",
   "execution_count": null,
   "id": "53c7fa7c",
   "metadata": {},
   "outputs": [
    {
     "data": {
      "text/plain": [
       "'E'"
      ]
     },
     "execution_count": 18,
     "metadata": {},
     "output_type": "execute_result"
    }
   ],
   "source": [
    "# week day mapped to correct column\n",
    "columns[2]"
   ]
  },
  {
   "cell_type": "code",
   "execution_count": 25,
   "id": "46f3e392",
   "metadata": {},
   "outputs": [
    {
     "name": "stdout",
     "output_type": "stream",
     "text": [
      "(3, 4, 5, 6, 7, 8, 9, 10, 11, 12, 13, 14, 15, 16, 17, 18, 19, 20, 21, 22, 23, 24, 25, 26, 27)\n"
     ]
    }
   ],
   "source": [
    "rows = tuple(range(3,28))\n",
    "print(rows)"
   ]
  },
  {
   "cell_type": "code",
   "execution_count": 26,
   "id": "a12716b0",
   "metadata": {},
   "outputs": [
    {
     "data": {
      "text/plain": [
       "3"
      ]
     },
     "execution_count": 26,
     "metadata": {},
     "output_type": "execute_result"
    }
   ],
   "source": [
    "# week number mapped to correct row\n",
    "row_index = int(datetime.date(2025, 1, 1).strftime(\"%V\"))-1\n",
    "rows[row_index]"
   ]
  },
  {
   "cell_type": "code",
   "execution_count": 27,
   "id": "0b46d1d0",
   "metadata": {},
   "outputs": [
    {
     "data": {
      "text/plain": [
       "'E3'"
      ]
     },
     "execution_count": 27,
     "metadata": {},
     "output_type": "execute_result"
    }
   ],
   "source": [
    "f\"{columns[2]}{rows[row_index]}\""
   ]
  },
  {
   "cell_type": "markdown",
   "id": "447e5de5",
   "metadata": {},
   "source": [
    "## Need to filter out saturdays and sundays"
   ]
  },
  {
   "cell_type": "code",
   "execution_count": 32,
   "id": "db3a620f",
   "metadata": {},
   "outputs": [
    {
     "data": {
      "text/plain": [
       "{datetime.date(2025, 1, 1): 'Nyårsdagen',\n",
       " datetime.date(2025, 1, 6): 'Trettondedag jul',\n",
       " datetime.date(2025, 4, 18): 'Långfredagen',\n",
       " datetime.date(2025, 4, 21): 'Annandag påsk',\n",
       " datetime.date(2025, 5, 1): 'Första maj',\n",
       " datetime.date(2025, 5, 29): 'Kristi himmelsfärdsdag',\n",
       " datetime.date(2025, 6, 6): 'Sveriges nationaldag',\n",
       " datetime.date(2025, 6, 20): 'Midsommarafton',\n",
       " datetime.date(2025, 12, 24): 'Julafton',\n",
       " datetime.date(2025, 12, 25): 'Juldagen',\n",
       " datetime.date(2025, 12, 26): 'Annandag jul',\n",
       " datetime.date(2025, 12, 31): 'Nyårsafton'}"
      ]
     },
     "execution_count": 32,
     "metadata": {},
     "output_type": "execute_result"
    }
   ],
   "source": [
    "holidays_no_weekend = {\n",
    "    date: name for date, name in holidays_swe.items() if date.weekday() < 5\n",
    "}\n",
    "holidays_no_weekend"
   ]
  },
  {
   "cell_type": "code",
   "execution_count": 36,
   "id": "aeb9f7ba",
   "metadata": {},
   "outputs": [
    {
     "name": "stdout",
     "output_type": "stream",
     "text": [
      "2025-01-01 Nyårsdagen 01 2\n",
      "2025-01-06 Trettondedag jul 02 0\n",
      "2025-04-18 Långfredagen 16 4\n",
      "2025-04-21 Annandag påsk 17 0\n",
      "2025-05-01 Första maj 18 3\n",
      "2025-05-29 Kristi himmelsfärdsdag 22 3\n",
      "2025-06-06 Sveriges nationaldag 23 4\n",
      "2025-06-20 Midsommarafton 25 4\n",
      "2025-12-24 Julafton 52 2\n",
      "2025-12-25 Juldagen 52 3\n",
      "2025-12-26 Annandag jul 52 4\n",
      "2025-12-31 Nyårsafton 01 2\n"
     ]
    }
   ],
   "source": [
    "for date, holiday in holidays_no_weekend.items():\n",
    "    print(date, holiday, date.strftime(\"%V\"), date.weekday())"
   ]
  }
 ],
 "metadata": {
  "kernelspec": {
   "display_name": "xlwings_lite",
   "language": "python",
   "name": "python3"
  },
  "language_info": {
   "codemirror_mode": {
    "name": "ipython",
    "version": 3
   },
   "file_extension": ".py",
   "mimetype": "text/x-python",
   "name": "python",
   "nbconvert_exporter": "python",
   "pygments_lexer": "ipython3",
   "version": "3.11.8"
  }
 },
 "nbformat": 4,
 "nbformat_minor": 5
}
